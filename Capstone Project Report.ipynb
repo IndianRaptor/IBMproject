{
    "cells": [
        {
            "cell_type": "markdown",
            "metadata": {
                "collapsed": true
            },
            "source": "# Hospital Cluster Analysis for Top Indian Cities for COVID-19 Control Room Setup"
        },
        {
            "cell_type": "markdown",
            "metadata": {},
            "source": "## Introduction"
        },
        {
            "cell_type": "markdown",
            "metadata": {},
            "source": "In this current COVID-19 pandemic it is crucial to have a dedicated COVID-19 control room facility to monitor the evolving situation effectively. Since this is a novel situation we do not have any such dedicated facility at present in any city, and so we want to set it up at the most optimum spot in a city keeping not only the present situation but also any future situation in mind."
        },
        {
            "cell_type": "markdown",
            "metadata": {},
            "source": "## Data section"
        },
        {
            "cell_type": "markdown",
            "metadata": {},
            "source": "To accomplish this crucial task, I have used FourSquare API to collect data about locations of major hospitals in 6 major Indian cities, which are: Delhi, Mumbai, Kolkata, Chennai, Bangalore, Hyderabad. These are one of the most densely populated cities in India."
        },
        {
            "cell_type": "markdown",
            "metadata": {},
            "source": "## Methodology"
        },
        {
            "cell_type": "markdown",
            "metadata": {},
            "source": "Our goal is to determine the optimum spot for a dedicated COVID-19 control room in each of the top 6 Indian cities. To achieve this I have used FourSquare API through the venues channel. I used the \"near\" query to get venues (in our case, Hospitals) in each city. To specify which venue type I want, I have set the \"CategoryID\" to point to Hospitals.\n\n\nI have set the query limit to 100, to reduce query request frequency to the available celing. This would give me a list of 100 Hospitals present in each of the 6 cities. I saved the name and coordinate data from the result and plotted them on the map for visual inspection.\n\nTo get an optimum location for the dedicated COVID-19 control room, I have calculated a center coordinate of all the hospitals in the city to get the mean longitude and latitude values. Then I calculated the mean of the Euclidean distance from each venue to the mean coordinates. That was my indicator; mean distance to the mean coordinate. As I believe that since the control room will be monitoring COVID-19 situation in each hospital, it should be in a central location to all hospitals present in the ciy."
        },
        {
            "cell_type": "markdown",
            "metadata": {},
            "source": "## Results"
        },
        {
            "cell_type": "markdown",
            "metadata": {},
            "source": "https://dataplatform.cloud.ibm.com/analytics/notebooks/v2/f3f0e8c6-f45f-4fc2-8a77-69db16872db4/view?access_token=bd9bd1959f278035b5d4ebcdff5f71e5ff44d041aed26f2e20486b2250a89241"
        },
        {
            "cell_type": "markdown",
            "metadata": {},
            "source": "For our initial visual inspection, we will see the location of each of the hospital present in the city. To do this, a geoplot is generated with folium.\n\nUpon First inspection we see that Mumbai and Bangalore have the most hospitals. In the next phase we Calculate the Mean coordinate and the mean distance to mean coordinate. We represent the mean coordinate with a big green circle and distances with green lines"
        },
        {
            "cell_type": "markdown",
            "metadata": {},
            "source": "## Discussion"
        },
        {
            "cell_type": "markdown",
            "metadata": {},
            "source": "One thing that we could observe from the result is that, most of the hospitals are situated very close to our suggested COVID-19 control room, which is great, but some are situated so far away that they maybe termed as an outlier. In General statistics we can ignore such outliers, but in our case its not just a spot on a map, its a hospital with real patients that may require urgent medical attention. \n\nTo solve that, one consideration to do further work on is to divide all the hospitals into zonal clusters and assign a zonal COVID-19 control room for each cluster headed by a central COVID-19 control room as suggested by our current analysis."
        },
        {
            "cell_type": "markdown",
            "metadata": {},
            "source": "## Conclusion"
        },
        {
            "cell_type": "markdown",
            "metadata": {},
            "source": "Now there is no doubt that Bangalore, Chennai and Kolkata have the best spot for a central COVID-19 control room. However, Mumbai, Hyderabad and Bangalore require multiple clusters to more effeciently manage the situation. \n\nWe have discovered that Mumbai specially needs multiple zonal COVID-19 control room, headed by a centrally located control room. Though Mumbai has the most number of hospitals among the top 6 cities that we analysed, it also has the highest population density among the top 6 cities that we analysed."
        },
        {
            "cell_type": "code",
            "execution_count": null,
            "metadata": {},
            "outputs": [],
            "source": ""
        }
    ],
    "metadata": {
        "kernelspec": {
            "display_name": "Python 3.6",
            "language": "python",
            "name": "python3"
        },
        "language_info": {
            "codemirror_mode": {
                "name": "ipython",
                "version": 3
            },
            "file_extension": ".py",
            "mimetype": "text/x-python",
            "name": "python",
            "nbconvert_exporter": "python",
            "pygments_lexer": "ipython3",
            "version": "3.6.9"
        }
    },
    "nbformat": 4,
    "nbformat_minor": 1
}